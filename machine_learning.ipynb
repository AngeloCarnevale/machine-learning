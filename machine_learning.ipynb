{
  "nbformat": 4,
  "nbformat_minor": 0,
  "metadata": {
    "colab": {
      "provenance": [],
      "authorship_tag": "ABX9TyNMaIdrZ4r4knzELcNIbQID",
      "include_colab_link": true
    },
    "kernelspec": {
      "name": "python3",
      "display_name": "Python 3"
    },
    "language_info": {
      "name": "python"
    }
  },
  "cells": [
    {
      "cell_type": "markdown",
      "metadata": {
        "id": "view-in-github",
        "colab_type": "text"
      },
      "source": [
        "<a href=\"https://colab.research.google.com/github/AngeloCarnevale/machine-learning/blob/main/machine_learning.ipynb\" target=\"_parent\"><img src=\"https://colab.research.google.com/assets/colab-badge.svg\" alt=\"Open In Colab\"/></a>"
      ]
    },
    {
      "cell_type": "code",
      "execution_count": 2,
      "metadata": {
        "id": "kcQ4aYpzbWuA"
      },
      "outputs": [],
      "source": [
        "from numpy import *\n",
        "\n",
        "class LinearRegression:\n",
        "  def __init__(self, x, y):\n",
        "    self.x = x\n",
        "    self.y = y\n",
        "    self.__correlation_coefficient = self.__correlacao()\n",
        "    self.__inclination_coefficient = self.inclinacao()\n",
        "    self.__intercept_coefficient = self.interceptacao()\n",
        "\n",
        "  def __correlacao(self):\n",
        "    covariacao = cov(self.x, self.y, bias=True)[0][1]\n",
        "    variancia_x = var(self.x)\n",
        "    variancia_y = var(self.y)\n",
        "    return covariacao / sqrt(variancia_x * variancia_y)\n",
        "\n",
        "  def __inclinacao(self):\n",
        "    stdx = std(self.x)\n",
        "    stdy = std(self.y)\n",
        "    return self.__correlation_coefficient * (stdy / stdx)\n",
        "\n",
        "  def __interceptacao(self):\n",
        "    mediax = mean(self.x)\n",
        "    mediay = mean(self.y)\n",
        "    return mediay - mediax * self.__inclination_coefficient\n",
        "\n",
        "  def previsao(self, valor):\n",
        "    return self.__intercept_coefficient + (self.__inclination_coefficient * valor)"
      ]
    }
  ]
}